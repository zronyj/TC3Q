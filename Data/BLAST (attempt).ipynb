{
 "cells": [
  {
   "cell_type": "markdown",
   "metadata": {},
   "source": [
    "# Intento de un algoritmo tipo BLAST"
   ]
  },
  {
   "cell_type": "markdown",
   "metadata": {},
   "source": [
    "### Función para determinar el \"score\" de un segmento"
   ]
  },
  {
   "cell_type": "code",
   "execution_count": 2,
   "metadata": {
    "collapsed": false
   },
   "outputs": [],
   "source": [
    "def get_score(subject, query, subject_start, query_start, length):\n",
    "    # Establecemos el score en 0\n",
    "    score = 0\n",
    "    # Recorremos las secuencias en un cierto numero de bases\n",
    "    for i in xrange(length):\n",
    "        # Averiguamos que base es la que toca en ambas secuencias\n",
    "        subject_base = subject[subject_start + i]\n",
    "        query_base = query[query_start + i]\n",
    "        # Comparamos si la base es igual, sumamos 1, si no, restamos 1\n",
    "        if subject_base == query_base:\n",
    "            score += 1\n",
    "        else:\n",
    "            score -= 1\n",
    "    return score"
   ]
  },
  {
   "cell_type": "markdown",
   "metadata": {},
   "source": [
    "### Función para dividir la secuencia en palabras de n letras"
   ]
  },
  {
   "cell_type": "code",
   "execution_count": 3,
   "metadata": {
    "collapsed": false
   },
   "outputs": [],
   "source": [
    "def splitter(sequence, word_length=3):\n",
    "    # Inicializamos una lista donde van a ir todas las palabras\n",
    "    words = []\n",
    "    # Vamos recorriendo toda la secuencia\n",
    "    for i in xrange(len(sequence) - word_length):\n",
    "        # Agregamos los segmentos de secuencia como palabras a la lista\n",
    "        words.append(sequence[i:i+word_length])\n",
    "    return words"
   ]
  },
  {
   "cell_type": "markdown",
   "metadata": {},
   "source": [
    "### Buscador de palabras repetidas para hallar sus posiciones"
   ]
  },
  {
   "cell_type": "code",
   "execution_count": 4,
   "metadata": {
    "collapsed": false
   },
   "outputs": [],
   "source": [
    "def rank(words):\n",
    "    # Creamos un diccionario para que cada palabra tenga su numero de posiciones\n",
    "    diccionario = {}\n",
    "    # Recorremos todas las palabras\n",
    "    for i in words:\n",
    "        # Definimos que cada palabra va a estar asociada a una lista\n",
    "        diccionario[i] = []\n",
    "        # Recorremos todas las palabras otra vez (buscando posiciones)\n",
    "        for j in range(len(words)):\n",
    "            # Si las palabras son iguales, agregamos la posicion a nuestro diccionario\n",
    "            if i == words[j]:\n",
    "                diccionario[i].append(j)\n",
    "    # Recorremos todo el diccionario eliminando entradas dobles de las listas\n",
    "    for k in diccionario:\n",
    "        diccionario[k] = set(diccionario[k])\n",
    "    return diccionario"
   ]
  },
  {
   "cell_type": "markdown",
   "metadata": {},
   "source": [
    "### Función para escoger las palabras con un número de entradas mayor o igual a m"
   ]
  },
  {
   "cell_type": "code",
   "execution_count": 5,
   "metadata": {
    "collapsed": false
   },
   "outputs": [],
   "source": [
    "def filtro(diccionario, entradas):\n",
    "    # Nuevo diccionario para guardar las palabras con mas entradas\n",
    "    new_diccionario = {}\n",
    "    # Recorremos el diccionario original\n",
    "    for k in diccionario:\n",
    "        # Si la cantidad de entradas es mayor o igual al numero que propusimos ...\n",
    "        if len(diccionario[k]) >= entradas:\n",
    "            # ... incluir esa palabra en el nuevo diccionario.\n",
    "            new_diccionario[k] = diccionario[k]\n",
    "    return new_diccionario"
   ]
  },
  {
   "cell_type": "markdown",
   "metadata": {},
   "source": [
    "### Función para eliminar duplicados de una lista"
   ]
  },
  {
   "cell_type": "code",
   "execution_count": 6,
   "metadata": {
    "collapsed": false
   },
   "outputs": [],
   "source": [
    "def remove_duplicates(lista):\n",
    "    # Creamos una lista nueva\n",
    "    new_lista = []\n",
    "    # Recorremos nuestra lista\n",
    "    while len(lista) > 0:\n",
    "        # Si el elemento en nuestra lista no esta en la lista nueva ...\n",
    "        if lista[0] not in new_lista:\n",
    "            # ... agregamos el elemento a la lista nueva.\n",
    "            new_lista.append(lista[0])\n",
    "        # Si el elemento estaba o no estaba en la lista nueva, igual hay que eliminarlo de nuestra lista\n",
    "        lista = lista[1:]\n",
    "    return new_lista"
   ]
  },
  {
   "cell_type": "markdown",
   "metadata": {},
   "source": [
    "### Función para escoger los segmentos con score arriba de x"
   ]
  },
  {
   "cell_type": "code",
   "execution_count": 7,
   "metadata": {
    "collapsed": false
   },
   "outputs": [],
   "source": [
    "def high_score(lista, high):\n",
    "    # Creamos una lista en donde van a ir las posiciones a ser descartadas\n",
    "    pos = []\n",
    "    # Recorremos toda la lista buscando scores bajos\n",
    "    for i in range(len(lista)):\n",
    "        # Si el score es bajo, guardar la posicion\n",
    "        if lista[i][2] < high:\n",
    "            pos.append(i)\n",
    "    # Recorremos la lista de posiciones en reversa ...\n",
    "    for j in pos[::-1]:\n",
    "        # ... y eliminamos las posiciones guardadas.\n",
    "        lista.pop(j)\n",
    "    return lista"
   ]
  },
  {
   "cell_type": "markdown",
   "metadata": {},
   "source": [
    "### Función para visualizar resultados"
   ]
  },
  {
   "cell_type": "code",
   "execution_count": 8,
   "metadata": {
    "collapsed": false
   },
   "outputs": [],
   "source": [
    "def visual(subject, query, match):\n",
    "    largo = match[0][1] - match[0][0] + 2\n",
    "    tab = len(str(max(match[0][0], match[1][0]))) + 1\n",
    "    print \"Referencia\"\n",
    "    print str(match[0][0]) + largo * \" \" + str(match[0][1])\n",
    "    print \" \" * tab + subject[match[0][0]:match[0][1]]\n",
    "    print \" \" * tab + query[match[1][0]:match[1][1]]\n",
    "    print str(match[1][0]) + largo * \" \" + str(match[1][1])\n",
    "    print \"Consulta\""
   ]
  },
  {
   "cell_type": "markdown",
   "metadata": {},
   "source": [
    "### Algoritmo tipo BLAST"
   ]
  },
  {
   "cell_type": "code",
   "execution_count": 9,
   "metadata": {
    "collapsed": false
   },
   "outputs": [],
   "source": [
    "def BLAST(subject, query, word_length, entries, threshold):\n",
    "    # Obtenemos las palabras significativas que vamos a usar para buscar\n",
    "    query_words = filtro(rank(splitter(query, word_length)),entries)\n",
    "    # Revisamos que nuestra secuencia de referencia tenga al menos una palabra igual a la de consulta\n",
    "    control = 0\n",
    "    for h in query_words:\n",
    "        if h in subject:\n",
    "            control += 1\n",
    "    if control == 0:\n",
    "        print \"No se hallo ninguna similitud entre las secuencias\"\n",
    "        return None\n",
    "    # Creamos una lista donde meter todos los segmentos que si son similares\n",
    "    matches = []\n",
    "    # Comenzamos con la busqueda: recorremos las palabras significativas\n",
    "    for k in query_words:\n",
    "        # Recorremos todas las posiciones en nuestra secuencia de referencia\n",
    "        for i in xrange(len(subject)):\n",
    "            # Si hallamos un segmento igual ...\n",
    "            if k == subject[i:i+word_length]:\n",
    "                for j in query_words[k]:\n",
    "                    # ... establecemos limites de las secuencias ...\n",
    "                    subject_limits = [i, i+word_length]\n",
    "                    query_limits = [j, j+word_length]\n",
    "                    score = get_score(subject, query, i, j, word_length)\n",
    "                    palabra = word_length\n",
    "                    inversor = 1\n",
    "                    # ... y nos comenzamos a expander hacia ambos lados.\n",
    "                    while True:\n",
    "                        coef = (-1)**inversor\n",
    "                        left_alive = True\n",
    "                        right_alive = True\n",
    "                        # Hacia la izquierda\n",
    "                        if coef == -1:\n",
    "                            if subject_limits[0] - 1 >= 0 and query_limits[0] - 1 >= 0 and left_alive:\n",
    "                                if get_score(subject, query, subject_limits[0] - 1, query_limits[0] - 1, palabra + 1) >= threshold * (palabra + 1):\n",
    "                                    subject_limits[0] -= 1\n",
    "                                    query_limits[0] -= 1\n",
    "                                    palabra += 1\n",
    "                                else:\n",
    "                                    break\n",
    "                            else:\n",
    "                                left_alive = False\n",
    "                        # Hacia la derecha\n",
    "                        else:\n",
    "                            if subject_limits[1] + 1 < len(subject) and query_limits[1] + 1 < len(query) and right_alive:\n",
    "                                if get_score(subject, query, subject_limits[0] + 1, query_limits[0] + 1, palabra + 1) >= threshold * (palabra + 1):\n",
    "                                    subject_limits[1] += 1\n",
    "                                    query_limits[1] += 1\n",
    "                                    palabra += 1\n",
    "                                else:\n",
    "                                    break\n",
    "                            else:\n",
    "                                right_alive = False\n",
    "                        inversor += 1\n",
    "                        if not left_alive and not right_alive:\n",
    "                            break\n",
    "                    # Agregamos los segmentos prometedores con todo y score\n",
    "                    score = get_score(subject, query, subject_limits[0], query_limits[0], palabra)\n",
    "                    matches.append([subject_limits, query_limits, score])\n",
    "    return matches"
   ]
  },
  {
   "cell_type": "code",
   "execution_count": 21,
   "metadata": {
    "collapsed": false
   },
   "outputs": [
    {
     "data": {
      "text/plain": [
       "[[[12, 23], [1, 12], 7],\n",
       " [[9, 19], [2, 12], 8],\n",
       " [[8, 19], [1, 12], 7],\n",
       " [[11, 19], [4, 12], 8]]"
      ]
     },
     "execution_count": 21,
     "metadata": {},
     "output_type": "execute_result"
    }
   ],
   "source": [
    "ref = 'actgatcgattgatcgatcgatcg'\n",
    "cons = 'tttagatcgatctttgatc'\n",
    "results = BLAST(ref, cons, 1, 1, 0.6)\n",
    "results = remove_duplicates(results)\n",
    "best_results = high_score(results, 7)\n",
    "best_results"
   ]
  },
  {
   "cell_type": "code",
   "execution_count": 11,
   "metadata": {
    "collapsed": false
   },
   "outputs": [
    {
     "name": "stdout",
     "output_type": "stream",
     "text": [
      "Referencia\n",
      "9            19\n",
      "  ttgatcgatc\n",
      "  tagatcgatc\n",
      "2            12\n",
      "Consulta\n"
     ]
    }
   ],
   "source": [
    "visual(ref, cons, best_results[7])"
   ]
  },
  {
   "cell_type": "code",
   "execution_count": null,
   "metadata": {
    "collapsed": false
   },
   "outputs": [],
   "source": []
  }
 ],
 "metadata": {
  "kernelspec": {
   "display_name": "Python 2",
   "language": "python",
   "name": "python2"
  },
  "language_info": {
   "codemirror_mode": {
    "name": "ipython",
    "version": 2
   },
   "file_extension": ".py",
   "mimetype": "text/x-python",
   "name": "python",
   "nbconvert_exporter": "python",
   "pygments_lexer": "ipython2",
   "version": "2.7.9"
  }
 },
 "nbformat": 4,
 "nbformat_minor": 0
}
