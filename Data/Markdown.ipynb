{
 "metadata": {
  "name": ""
 },
 "nbformat": 3,
 "nbformat_minor": 0,
 "worksheets": [
  {
   "cells": [
    {
     "cell_type": "markdown",
     "metadata": {},
     "source": [
      "# Hoja de Claves para Markdown"
     ]
    },
    {
     "cell_type": "raw",
     "metadata": {},
     "source": [
      "# Comencemos\n",
      "## Con algunos\n",
      "### T\u00edtulos\n",
      "#### De distintos\n",
      "##### Tama\u00f1os"
     ]
    },
    {
     "cell_type": "markdown",
     "metadata": {},
     "source": [
      "# Comencemos\n",
      "## Con algunos\n",
      "### T\u00edtulos\n",
      "#### De distintos\n",
      "##### Tama\u00f1os"
     ]
    },
    {
     "cell_type": "raw",
     "metadata": {},
     "source": [
      "Dejemos una l\u00ednea para dividir contenido.\n",
      "\n",
      "---"
     ]
    },
    {
     "cell_type": "markdown",
     "metadata": {},
     "source": [
      "Dejemos una l\u00ednea para dividir contenido.\n",
      "\n",
      "---"
     ]
    },
    {
     "cell_type": "raw",
     "metadata": {},
     "source": [
      "Para escribir en cursivas, puede utilizarse _guiones bajos_ o *asteriscos*."
     ]
    },
    {
     "cell_type": "markdown",
     "metadata": {},
     "source": [
      "Para escribir en cursivas, puede utilizarse _guiones bajos_ o *asteriscos*."
     ]
    },
    {
     "cell_type": "raw",
     "metadata": {},
     "source": [
      "Para escribir en negritas, se usa __lo mismo__, pero **doble**."
     ]
    },
    {
     "cell_type": "markdown",
     "metadata": {},
     "source": [
      "Para escribir en negritas, se usa __lo mismo__, pero **doble**."
     ]
    },
    {
     "cell_type": "raw",
     "metadata": {},
     "source": [
      "Si deseamos **_combinar_** las **dos** _cosas_, solo debemos alternar los signos."
     ]
    },
    {
     "cell_type": "markdown",
     "metadata": {},
     "source": [
      "Si deseamos **_combinar_** las **dos** _cosas_, solo debemos alternar los signos."
     ]
    },
    {
     "cell_type": "raw",
     "metadata": {},
     "source": [
      "A veces tambi\u00e9n es necesario ~~tachar~~ las cosas."
     ]
    },
    {
     "cell_type": "markdown",
     "metadata": {},
     "source": [
      "A veces tambi\u00e9n es necesario ~~tachar~~ las cosas."
     ]
    },
    {
     "cell_type": "raw",
     "metadata": {},
     "source": [
      "Quiz\u00e1 querramos representar un poco de codigo dentro de nuestro texto: `pedazo = lista[3:6]`"
     ]
    },
    {
     "cell_type": "markdown",
     "metadata": {},
     "source": [
      "Quiz\u00e1 querramos representar un poco de codigo dentro de nuestro texto: `pedazo = lista[3:6]`"
     ]
    },
    {
     "cell_type": "raw",
     "metadata": {},
     "source": [
      "Quiz\u00e1 necesitemos representar m\u00e1s que solo una l\u00ednea.\n",
      "\n",
      "```def funcion(var1, var2):\n",
      "    temp = (var2 - var1) / float(var2)\n",
      "    return temp * 100```"
     ]
    },
    {
     "cell_type": "markdown",
     "metadata": {},
     "source": [
      "Quiz\u00e1 necesitemos representar m\u00e1s que solo una l\u00ednea.\n",
      "\n",
      "```def funcion(var1, var2):\n",
      "    temp = (var2 - var1) / float(var2)\n",
      "    return temp * 100```"
     ]
    },
    {
     "cell_type": "raw",
     "metadata": {},
     "source": [
      "> En otros casos vamos a querer resaltar el texto como si fuera una respuesta o un texto que ya se ley\u00f3.\n",
      ">> Y no nos tenemos que quedar con un solo nivel."
     ]
    },
    {
     "cell_type": "markdown",
     "metadata": {},
     "source": [
      "> En otros casos vamos a querer resaltar el texto como si fuera una respuesta o un texto que ya se ley\u00f3.\n",
      ">> Y no nos tenemos que quedar con un solo nivel."
     ]
    },
    {
     "cell_type": "raw",
     "metadata": {},
     "source": [
      "Podemos intentar escribir LaTeX dentro de una celda con Markdown $ \\bar{x} = \\frac{\\sum_{i=0}^{N} x_{i}}{N} $\n",
      "\n",
      "Pero tambi\u00e9n podr\u00edamos dejar la ecuaci\u00f3n en su propia l\u00ednea:\n",
      "\n",
      "$$ \\bar{x} = \\frac{\\sum_{i=0}^{N} x_{i}}{N} $$"
     ]
    },
    {
     "cell_type": "markdown",
     "metadata": {},
     "source": [
      "Podemos intentar escribir LaTeX dentro de una celda con Markdown $ \\bar{x} = \\frac{\\sum_{i=0}^{N} x_{i}}{N} $\n",
      "\n",
      "Pero tambi\u00e9n podr\u00edamos dejar la ecuaci\u00f3n en su propia l\u00ednea:\n",
      "\n",
      "$$ \\bar{x} = \\frac{\\sum_{i=0}^{N} x_{i}}{N} $$"
     ]
    },
    {
     "cell_type": "raw",
     "metadata": {},
     "source": [
      "En escritura web, un [enlace](https://www.python.org/) o una ![imagen](https://www.python.org/static/opengraph-icon-200x200.png \"Logo de Python.\") son cosas importantes."
     ]
    },
    {
     "cell_type": "markdown",
     "metadata": {},
     "source": [
      "En escritura web, un [enlace](https://www.python.org/) o una ![imagen](https://www.python.org/static/opengraph-icon-200x200.png \"Logo de Python.\") son cosas importantes."
     ]
    },
    {
     "cell_type": "raw",
     "metadata": {},
     "source": [
      "Poder hacer una:\n",
      "\n",
      "* Lista\n",
      "* de\n",
      "    + Cosas\n",
      "    + Pasos\n",
      "    + Materiales\n",
      "\n",
      "Puede ser de utilidad.\n",
      "\n",
      "Aunque para una lista de pasos:\n",
      "\n",
      "1. Enumerarlos\n",
      "2. Puede\n",
      "3. Ser\n",
      "4. Una mejor\n",
      "    + Opci\u00f3n\n",
      "    + Alternativa\n",
      "    + Idea"
     ]
    },
    {
     "cell_type": "markdown",
     "metadata": {},
     "source": [
      "Poder hacer una:\n",
      "\n",
      "* Lista\n",
      "* de\n",
      "    + Cosas\n",
      "    + Pasos\n",
      "    + Materiales\n",
      "\n",
      "Puede ser de utilidad.\n",
      "\n",
      "Aunque para una lista de pasos:\n",
      "\n",
      "1. Enumerarlos\n",
      "2. Puede\n",
      "3. Ser\n",
      "4. Una mejor\n",
      "    + Opci\u00f3n\n",
      "    + Alternativa\n",
      "    + Idea"
     ]
    },
    {
     "cell_type": "raw",
     "metadata": {},
     "source": [
      "Finalmente, algo importante para tomar en cuenta son las tablas.\n",
      "Estas pueden ensamblarse dejando los espacios correctos. Por ejemplo:\n",
      "    \n",
      "| Encabezado 1 | Encabezado 2 |\n",
      "| --------------------------- |\n",
      "| Item a1      | Item a2      |\n",
      "| Item b1      | Item b2      |\n",
      "| Item c1      | Item c2      |"
     ]
    },
    {
     "cell_type": "markdown",
     "metadata": {},
     "source": [
      "Finalmente, algo importante para tomar en cuenta son las tablas.\n",
      "Estas pueden ensamblarse dejando los espacios correctos. Por ejemplo:\n",
      "    \n",
      "| Encabezado 1 | Encabezado 2 |\n",
      "| --------------------------- |\n",
      "| Item a1      | Item a2      |\n",
      "| Item b1      | Item b2      |\n",
      "| Item c1      | Item c2      |"
     ]
    }
   ],
   "metadata": {}
  }
 ]
}